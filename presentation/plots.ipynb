{
 "cells": [
  {
   "cell_type": "code",
   "execution_count": null,
   "metadata": {},
   "outputs": [],
   "source": [
    "data = data.groupby('Runtime')[['Tag4', 'Tag11', 'Tag12', 'Tag20', 'Tag21']].mean().reset_index()\n",
    "\n",
    "fig = make_subplots(rows=3, cols=2, vertical_spacing=0.1)\n",
    "\n",
    "columns = ['Tag4', 'Tag11', 'Tag12', 'Tag20', 'Tag21']\n",
    "\n",
    "for i, col in enumerate(columns):\n",
    "\n",
    "    fig.add_trace(go.Scatter(x=data['Runtime'],\n",
    "                             y=data[col],\n",
    "                             name=col),\n",
    "                  row=i//2+1, col=i%2+1,\n",
    "                  )\n",
    "    \n",
    "fig.update_layout(\n",
    "    title=f'Comportamento do valor médio de alguns sensores das 100 máquinas ao longo dos ciclos de operação',\n",
    "    height=600,\n",
    "    paper_bgcolor='rgba(0,0,0,0)',\n",
    "    plot_bgcolor='rgba(0,0,0,0)',\n",
    ")\n",
    "\n",
    "fig.show()"
   ]
  },
  {
   "cell_type": "code",
   "execution_count": null,
   "metadata": {},
   "outputs": [],
   "source": [
    "fig = go.Figure()\n",
    "\n",
    "fig.add_trace(go.Scatter(x=data['Runtime'],\n",
    "                         y=data['Tag21'],\n",
    "                         name='Tag21'\n",
    "                         )\n",
    "             )\n",
    "    \n",
    "fig.update_layout(\n",
    "    height=600,\n",
    "    paper_bgcolor='rgba(0,0,0,0)',\n",
    "    plot_bgcolor='rgba(0,0,0,0)',\n",
    "    xaxis=dict(showgrid=False,\n",
    "               tickfont=dict(color='white',\n",
    "                             size=24\n",
    "                             ),\n",
    "               \n",
    "               ),\n",
    "    yaxis=dict(showgrid=False,\n",
    "               tickfont=dict(color='white',\n",
    "                             size=24\n",
    "                             ),\n",
    "               \n",
    "               )\n",
    ")\n",
    "fig.update_traces(marker=dict(color='yellow'))"
   ]
  },
  {
   "cell_type": "code",
   "execution_count": null,
   "metadata": {},
   "outputs": [],
   "source": [
    "data = df_train[['AssetId', 'Runtime', 'Tag4', 'Tag11', 'Tag12', 'Tag20', 'Tag21']]"
   ]
  },
  {
   "cell_type": "code",
   "execution_count": null,
   "metadata": {},
   "outputs": [],
   "source": [
    "data = data.groupby('Runtime')[['Tag4', 'Tag11', 'Tag12', 'Tag20', 'Tag21']].mean().reset_index()"
   ]
  },
  {
   "cell_type": "code",
   "execution_count": null,
   "metadata": {},
   "outputs": [],
   "source": [
    "data.to_csv('data/data.csv', index=False, sep=';')"
   ]
  }
 ],
 "metadata": {
  "language_info": {
   "name": "python"
  },
  "orig_nbformat": 4
 },
 "nbformat": 4,
 "nbformat_minor": 2
}
